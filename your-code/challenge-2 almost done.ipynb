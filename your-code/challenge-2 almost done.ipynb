{
 "cells": [
  {
   "cell_type": "markdown",
   "metadata": {},
   "source": [
    "## Challenge 2: Sets\n",
    "\n",
    "There are a lot to learn about Python Sets and the information presented in the lesson is limited due to its length. To learn Python Sets in depth you are strongly encouraged to review the W3Schools tutorial on [Python Sets Examples and Methods](https://www.w3schools.com/python/python_sets.asp) before you work on this lab. Some difficult questions in this lab have their solutions in the W3Schools tutorial.\n",
    "\n",
    "#### First, import the Python `random` libary"
   ]
  },
  {
   "cell_type": "code",
   "execution_count": 1,
   "metadata": {},
   "outputs": [],
   "source": [
    "import random"
   ]
  },
  {
   "cell_type": "markdown",
   "metadata": {},
   "source": [
    "#### 1 - In the cell below, create a list named `sample_list_1` with 80 random values. \n",
    "\n",
    "Requirements:\n",
    "\n",
    "* Each value is an integer falling between 0 and 100.\n",
    "* Each value in the list is unique.\n",
    "\n",
    "Print `sample_list_1` to review its values\n",
    "\n",
    "*Hint: use `random.sample` ([reference](https://docs.python.org/3/library/random.html#random.sample)).*"
   ]
  },
  {
   "cell_type": "code",
   "execution_count": 3,
   "metadata": {},
   "outputs": [],
   "source": [
    "import random\n"
   ]
  },
  {
   "cell_type": "markdown",
   "metadata": {},
   "source": [
    "#### 2 - Convert `sample_list_1` to a set called `set1`. Print the length of the set. Is its length still 80?"
   ]
  },
  {
   "cell_type": "code",
   "execution_count": 9,
   "metadata": {},
   "outputs": [
    {
     "name": "stdout",
     "output_type": "stream",
     "text": [
      "[14, 40, 67, 98, 47, 23, 18, 85, 5, 26, 6, 64, 72, 62, 38, 58, 51, 70, 71, 33, 1, 30, 25, 7, 29, 3, 11, 76, 82, 20, 46, 50, 19, 94, 56, 15, 0, 93, 52, 9, 83, 8, 42, 60, 87, 99, 63, 81, 35, 12, 43, 79, 37, 57, 49, 39, 16, 91, 59, 84, 78, 75, 65, 44, 66, 92, 24, 74, 28, 69, 36, 68, 61, 89, 90, 32, 4, 54, 22, 45]\n"
     ]
    }
   ],
   "source": [
    "sample_list_1 = random.sample(range(0, 100), 80)\n",
    "print (sample_list_1)"
   ]
  },
  {
   "cell_type": "code",
   "execution_count": 82,
   "metadata": {},
   "outputs": [
    {
     "name": "stdout",
     "output_type": "stream",
     "text": [
      "[14, 40, 67, 98, 47, 23, 18, 85, 5, 26, 6, 64, 72, 62, 38, 58, 51, 70, 71, 33, 1, 30, 25, 7, 29, 3, 11, 76, 82, 20, 46, 50, 19, 94, 56, 15, 0, 93, 52, 9, 83, 8, 42, 60, 87, 99, 63, 81, 35, 12, 43, 79, 37, 57, 49, 39, 16, 91, 59, 84, 78, 75, 65, 44, 66, 92, 24, 74, 28, 69, 36, 68, 61, 89, 90, 32, 4, 54, 22, 45]\n"
     ]
    }
   ],
   "source": [
    "set1 = (sample_list_1)\n",
    "print(set1)"
   ]
  },
  {
   "cell_type": "code",
   "execution_count": 75,
   "metadata": {},
   "outputs": [
    {
     "name": "stdout",
     "output_type": "stream",
     "text": [
      "{14: None, 40: None, 67: None, 98: None, 47: None, 23: None, 18: None, 85: None, 5: None, 26: None, 6: None, 64: None, 72: None, 62: None, 38: None, 58: None, 51: None, 70: None, 71: None, 33: None, 1: None, 30: None, 25: None, 7: None, 29: None, 3: None, 11: None, 76: None, 82: None, 20: None, 46: None, 50: None, 19: None, 94: None, 56: None, 15: None, 0: None, 93: None, 52: None, 9: None, 83: None, 8: None, 42: None, 60: None, 87: None, 99: None, 63: None, 81: None, 35: None, 12: None, 43: None, 79: None, 37: None, 57: None, 49: None, 39: None, 16: None, 91: None, 59: None, 84: None, 78: None, 75: None, 65: None, 44: None, 66: None, 92: None, 24: None, 74: None, 28: None, 69: None, 36: None, 68: None, 61: None, 89: None, 90: None, 32: None, 4: None, 54: None, 22: None, 45: None}\n"
     ]
    }
   ],
   "source": [
    "set11 = dict.fromkeys(set1)\n",
    "print (set11)"
   ]
  },
  {
   "cell_type": "code",
   "execution_count": 13,
   "metadata": {},
   "outputs": [
    {
     "name": "stdout",
     "output_type": "stream",
     "text": [
      "80\n"
     ]
    }
   ],
   "source": [
    "print(len(sample_list_1))"
   ]
  },
  {
   "cell_type": "code",
   "execution_count": 12,
   "metadata": {},
   "outputs": [
    {
     "name": "stdout",
     "output_type": "stream",
     "text": [
      "14 occurs 1 times\n",
      "40 occurs 1 times\n",
      "67 occurs 1 times\n",
      "98 occurs 1 times\n",
      "47 occurs 1 times\n",
      "23 occurs 1 times\n",
      "18 occurs 1 times\n",
      "85 occurs 1 times\n",
      "5 occurs 1 times\n",
      "26 occurs 1 times\n",
      "6 occurs 1 times\n",
      "64 occurs 1 times\n",
      "72 occurs 1 times\n",
      "62 occurs 1 times\n",
      "38 occurs 1 times\n",
      "58 occurs 1 times\n",
      "51 occurs 1 times\n",
      "70 occurs 1 times\n",
      "71 occurs 1 times\n",
      "33 occurs 1 times\n",
      "1 occurs 1 times\n",
      "30 occurs 1 times\n",
      "25 occurs 1 times\n",
      "7 occurs 1 times\n",
      "29 occurs 1 times\n",
      "3 occurs 1 times\n",
      "11 occurs 1 times\n",
      "76 occurs 1 times\n",
      "82 occurs 1 times\n",
      "20 occurs 1 times\n",
      "46 occurs 1 times\n",
      "50 occurs 1 times\n",
      "19 occurs 1 times\n",
      "94 occurs 1 times\n",
      "56 occurs 1 times\n",
      "15 occurs 1 times\n",
      "0 occurs 1 times\n",
      "93 occurs 1 times\n",
      "52 occurs 1 times\n",
      "9 occurs 1 times\n",
      "83 occurs 1 times\n",
      "8 occurs 1 times\n",
      "42 occurs 1 times\n",
      "60 occurs 1 times\n",
      "87 occurs 1 times\n",
      "99 occurs 1 times\n",
      "63 occurs 1 times\n",
      "81 occurs 1 times\n",
      "35 occurs 1 times\n",
      "12 occurs 1 times\n",
      "43 occurs 1 times\n",
      "79 occurs 1 times\n",
      "37 occurs 1 times\n",
      "57 occurs 1 times\n",
      "49 occurs 1 times\n",
      "39 occurs 1 times\n",
      "16 occurs 1 times\n",
      "91 occurs 1 times\n",
      "59 occurs 1 times\n",
      "84 occurs 1 times\n",
      "78 occurs 1 times\n",
      "75 occurs 1 times\n",
      "65 occurs 1 times\n",
      "44 occurs 1 times\n",
      "66 occurs 1 times\n",
      "92 occurs 1 times\n",
      "24 occurs 1 times\n",
      "74 occurs 1 times\n",
      "28 occurs 1 times\n",
      "69 occurs 1 times\n",
      "36 occurs 1 times\n",
      "68 occurs 1 times\n",
      "61 occurs 1 times\n",
      "89 occurs 1 times\n",
      "90 occurs 1 times\n",
      "32 occurs 1 times\n",
      "4 occurs 1 times\n",
      "54 occurs 1 times\n",
      "22 occurs 1 times\n",
      "45 occurs 1 times\n"
     ]
    }
   ],
   "source": [
    "for i in sample_list_1:\n",
    "     print (i, \"occurs\", sample_list_1.count(i),\"times\")\n",
    "   \n"
   ]
  },
  {
   "cell_type": "markdown",
   "metadata": {},
   "source": [
    "#### 3 - Create another list named `sample_list_2` with 80 random values.\n",
    "\n",
    "Requirements:\n",
    "\n",
    "* Each value is an integer falling between 0 and 100.\n",
    "* The values in the list don't have to be unique.\n",
    "\n",
    "*Hint: Use a FOR loop.*"
   ]
  },
  {
   "cell_type": "code",
   "execution_count": 58,
   "metadata": {},
   "outputs": [
    {
     "name": "stdout",
     "output_type": "stream",
     "text": [
      "[56, 39, 29, 79, 90, 47, 67, 6, 78, 74, 16, 18, 95, 3, 91, 7, 23, 79, 0, 0, 98, 77, 77, 14, 17, 55, 23, 39, 38, 18, 87, 37, 39, 11, 57, 39, 69, 67, 11, 49, 14, 69, 74, 1, 45, 86, 100, 76, 16, 55, 47, 13, 13, 14, 10, 77, 43, 90, 72, 54, 25, 39, 75, 58, 35, 8, 82, 1, 20, 21, 2, 59, 82, 88, 81, 71, 13, 80, 82, 99]\n"
     ]
    }
   ],
   "source": [
    "sample_list_2 = []\n",
    "for i in range(80):\n",
    "    num = random.randint(0,101)\n",
    "    sample_list_2.append(num)\n",
    "print (sample_list_2)"
   ]
  },
  {
   "cell_type": "code",
   "execution_count": 78,
   "metadata": {},
   "outputs": [
    {
     "name": "stdout",
     "output_type": "stream",
     "text": [
      "{56: None, 39: None, 29: None, 79: None, 90: None, 47: None, 67: None, 6: None, 78: None, 74: None, 16: None, 18: None, 95: None, 3: None, 91: None, 7: None, 23: None, 0: None, 98: None, 77: None, 14: None, 17: None, 55: None, 38: None, 87: None, 37: None, 11: None, 57: None, 69: None, 49: None, 1: None, 45: None, 86: None, 100: None, 76: None, 13: None, 10: None, 43: None, 72: None, 54: None, 25: None, 75: None, 58: None, 35: None, 8: None, 82: None, 20: None, 21: None, 2: None, 59: None, 88: None, 81: None, 71: None, 80: None, 99: None}\n"
     ]
    }
   ],
   "source": [
    "set12 = dict.fromkeys(set2)\n",
    "print (set12)"
   ]
  },
  {
   "cell_type": "code",
   "execution_count": 59,
   "metadata": {},
   "outputs": [
    {
     "name": "stdout",
     "output_type": "stream",
     "text": [
      "56 occurs 1\n",
      "39 occurs 5\n",
      "29 occurs 1\n",
      "79 occurs 2\n",
      "90 occurs 2\n",
      "47 occurs 2\n",
      "67 occurs 2\n",
      "6 occurs 1\n",
      "78 occurs 1\n",
      "74 occurs 2\n",
      "16 occurs 2\n",
      "18 occurs 2\n",
      "95 occurs 1\n",
      "3 occurs 1\n",
      "91 occurs 1\n",
      "7 occurs 1\n",
      "23 occurs 2\n",
      "79 occurs 2\n",
      "0 occurs 2\n",
      "0 occurs 2\n",
      "98 occurs 1\n",
      "77 occurs 3\n",
      "77 occurs 3\n",
      "14 occurs 3\n",
      "17 occurs 1\n",
      "55 occurs 2\n",
      "23 occurs 2\n",
      "39 occurs 5\n",
      "38 occurs 1\n",
      "18 occurs 2\n",
      "87 occurs 1\n",
      "37 occurs 1\n",
      "39 occurs 5\n",
      "11 occurs 2\n",
      "57 occurs 1\n",
      "39 occurs 5\n",
      "69 occurs 2\n",
      "67 occurs 2\n",
      "11 occurs 2\n",
      "49 occurs 1\n",
      "14 occurs 3\n",
      "69 occurs 2\n",
      "74 occurs 2\n",
      "1 occurs 2\n",
      "45 occurs 1\n",
      "86 occurs 1\n",
      "100 occurs 1\n",
      "76 occurs 1\n",
      "16 occurs 2\n",
      "55 occurs 2\n",
      "47 occurs 2\n",
      "13 occurs 3\n",
      "13 occurs 3\n",
      "14 occurs 3\n",
      "10 occurs 1\n",
      "77 occurs 3\n",
      "43 occurs 1\n",
      "90 occurs 2\n",
      "72 occurs 1\n",
      "54 occurs 1\n",
      "25 occurs 1\n",
      "39 occurs 5\n",
      "75 occurs 1\n",
      "58 occurs 1\n",
      "35 occurs 1\n",
      "8 occurs 1\n",
      "82 occurs 3\n",
      "1 occurs 2\n",
      "20 occurs 1\n",
      "21 occurs 1\n",
      "2 occurs 1\n",
      "59 occurs 1\n",
      "82 occurs 3\n",
      "88 occurs 1\n",
      "81 occurs 1\n",
      "71 occurs 1\n",
      "13 occurs 3\n",
      "80 occurs 1\n",
      "82 occurs 3\n",
      "99 occurs 1\n"
     ]
    }
   ],
   "source": [
    "for i in sample_list_2:\n",
    "    print(i, \"occurs\", sample_list_2.count(i))"
   ]
  },
  {
   "cell_type": "markdown",
   "metadata": {},
   "source": [
    "#### 4 - Convert `sample_list_2` to a set called `set2`. Print the length of the set. Is its length still 80?"
   ]
  },
  {
   "cell_type": "code",
   "execution_count": 63,
   "metadata": {},
   "outputs": [
    {
     "name": "stdout",
     "output_type": "stream",
     "text": [
      "[56, 39, 29, 79, 90, 47, 67, 6, 78, 74, 16, 18, 95, 3, 91, 7, 23, 79, 0, 0, 98, 77, 77, 14, 17, 55, 23, 39, 38, 18, 87, 37, 39, 11, 57, 39, 69, 67, 11, 49, 14, 69, 74, 1, 45, 86, 100, 76, 16, 55, 47, 13, 13, 14, 10, 77, 43, 90, 72, 54, 25, 39, 75, 58, 35, 8, 82, 1, 20, 21, 2, 59, 82, 88, 81, 71, 13, 80, 82, 99]\n"
     ]
    }
   ],
   "source": [
    "set2 = (sample_list_2)\n",
    "print(set2)"
   ]
  },
  {
   "cell_type": "code",
   "execution_count": 64,
   "metadata": {},
   "outputs": [
    {
     "name": "stdout",
     "output_type": "stream",
     "text": [
      "80\n"
     ]
    }
   ],
   "source": [
    "print (len(sample_list_2))"
   ]
  },
  {
   "cell_type": "markdown",
   "metadata": {},
   "source": [
    "#### 5 - Identify the elements present in `set1` but not in `set2`. Assign the elements to a new set named `set3`."
   ]
  },
  {
   "cell_type": "code",
   "execution_count": 85,
   "metadata": {},
   "outputs": [
    {
     "name": "stdout",
     "output_type": "stream",
     "text": [
      "{4, 5, 9, 12, 15, 19, 22, 24, 26, 28, 30, 32, 33, 36, 40, 42, 44, 46, 50, 51, 52, 60, 61, 62, 63, 64, 65, 66, 68, 70, 83, 84, 85, 89, 92, 93, 94}\n"
     ]
    }
   ],
   "source": [
    "set3 = set(set1).difference(set2)\n",
    "print (set3)"
   ]
  },
  {
   "cell_type": "markdown",
   "metadata": {},
   "source": [
    "#### 6 - Identify the elements present in `set2` but not in `set1`. Assign the elements to a new set named `set4`."
   ]
  },
  {
   "cell_type": "code",
   "execution_count": 86,
   "metadata": {},
   "outputs": [
    {
     "name": "stdout",
     "output_type": "stream",
     "text": [
      "{2, 10, 13, 77, 80, 17, 21, 86, 88, 95, 100, 55}\n"
     ]
    }
   ],
   "source": [
    "set4 = set(set2).difference(set1)\n",
    "print (set4)"
   ]
  },
  {
   "cell_type": "markdown",
   "metadata": {},
   "source": [
    "#### 7 - Now Identify the elements shared between `set1` and `set2`. Assign the elements to a new set named `set5`."
   ]
  },
  {
   "cell_type": "code",
   "execution_count": 88,
   "metadata": {},
   "outputs": [
    {
     "name": "stdout",
     "output_type": "stream",
     "text": [
      "{0, 1, 2, 3, 4, 5, 6, 7, 8, 9, 10, 11, 12, 13, 14, 15, 16, 17, 18, 19, 20, 21, 22, 23, 24, 25, 26, 28, 29, 30, 32, 33, 35, 36, 37, 38, 39, 40, 42, 43, 44, 45, 46, 47, 49, 50, 51, 52, 54, 55, 56, 57, 58, 59, 60, 61, 62, 63, 64, 65, 66, 67, 68, 69, 70, 71, 72, 74, 75, 76, 77, 78, 79, 80, 81, 82, 83, 84, 85, 86, 87, 88, 89, 90, 91, 92, 93, 94, 95, 98, 99, 100}\n"
     ]
    }
   ],
   "source": [
    "set5 = set(set1).union(set2)\n",
    "print (set5)"
   ]
  },
  {
   "cell_type": "markdown",
   "metadata": {},
   "source": [
    "#### 8 - Create an empty set called `set6`."
   ]
  },
  {
   "cell_type": "code",
   "execution_count": 89,
   "metadata": {},
   "outputs": [],
   "source": [
    "set6 = ()"
   ]
  },
  {
   "cell_type": "markdown",
   "metadata": {},
   "source": [
    "#### 9 - Add `set3` and `set5` to `set6` using the Python Set `update` method."
   ]
  },
  {
   "cell_type": "code",
   "execution_count": 107,
   "metadata": {},
   "outputs": [
    {
     "name": "stdout",
     "output_type": "stream",
     "text": [
      "{0, 1, 2, 3, 4, 5, 6, 7, 8, 9, 10, 11, 12, 13, 14, 15, 16, 17, 18, 19, 20, 21, 22, 23, 24, 25, 26, 28, 29, 30, 32, 33, 35, 36, 37, 38, 39, 40, 42, 43, 44, 45, 46, 47, 49, 50, 51, 52, 54, 55, 56, 57, 58, 59, 60, 61, 62, 63, 64, 65, 66, 67, 68, 69, 70, 71, 72, 74, 75, 76, 77, 78, 79, 80, 81, 82, 83, 84, 85, 86, 87, 88, 89, 90, 91, 92, 93, 94, 95, 98, 99, 100}\n"
     ]
    }
   ],
   "source": [
    "set(set3).update(set5)\n",
    "print(set3)"
   ]
  },
  {
   "cell_type": "markdown",
   "metadata": {},
   "source": [
    "#### 10 - Check if `set1` and `set6` are equal."
   ]
  },
  {
   "cell_type": "code",
   "execution_count": 96,
   "metadata": {},
   "outputs": [
    {
     "data": {
      "text/plain": [
       "False"
      ]
     },
     "execution_count": 96,
     "metadata": {},
     "output_type": "execute_result"
    }
   ],
   "source": [
    "set1 == set6"
   ]
  },
  {
   "cell_type": "markdown",
   "metadata": {},
   "source": [
    "#### 11 - Check if `set1` contains `set2` using the Python Set `issubset` method. Then check if `set1` contains `set3`.*"
   ]
  },
  {
   "cell_type": "code",
   "execution_count": 98,
   "metadata": {},
   "outputs": [
    {
     "data": {
      "text/plain": [
       "False"
      ]
     },
     "execution_count": 98,
     "metadata": {},
     "output_type": "execute_result"
    }
   ],
   "source": [
    "z = set(set1).issubset(set2)\n",
    "z"
   ]
  },
  {
   "cell_type": "code",
   "execution_count": 99,
   "metadata": {},
   "outputs": [
    {
     "data": {
      "text/plain": [
       "True"
      ]
     },
     "execution_count": 99,
     "metadata": {},
     "output_type": "execute_result"
    }
   ],
   "source": [
    "y = set(set1).issubset(set3)\n",
    "y"
   ]
  },
  {
   "cell_type": "markdown",
   "metadata": {},
   "source": [
    "#### 12 -Using the Python Set `union` method, aggregate `set3`, `set4`, and `set5`. Then aggregate `set1` and `set2`. \n",
    "\n",
    "#### Check if the aggregated values are equal."
   ]
  },
  {
   "cell_type": "code",
   "execution_count": null,
   "metadata": {},
   "outputs": [],
   "source": [
    "# Your code here\n"
   ]
  },
  {
   "cell_type": "markdown",
   "metadata": {},
   "source": [
    "#### 13 -Using the `pop` method, remove the first element from `set1`."
   ]
  },
  {
   "cell_type": "code",
   "execution_count": 108,
   "metadata": {},
   "outputs": [
    {
     "data": {
      "text/plain": [
       "14"
      ]
     },
     "execution_count": 108,
     "metadata": {},
     "output_type": "execute_result"
    }
   ],
   "source": [
    "set1.pop(0)"
   ]
  },
  {
   "cell_type": "markdown",
   "metadata": {},
   "source": [
    "#### 14 -Remove every element in the following list from `set1` if they are present in the set. Print the remaining elements.\n",
    "\n",
    "```\n",
    "list_to_remove = [1, 9, 11, 19, 21, 29, 31, 39, 41, 49, 51, 59, 61, 69, 71, 79, 81, 89, 91, 99]\n",
    "```"
   ]
  },
  {
   "cell_type": "code",
   "execution_count": 110,
   "metadata": {},
   "outputs": [
    {
     "name": "stdout",
     "output_type": "stream",
     "text": [
      "[1, 9, 11, 19, 21, 29, 31, 39, 41, 49, 51, 59, 61, 69, 71, 79, 81, 89, 91, 99]\n"
     ]
    }
   ],
   "source": [
    "list_to_remove = [1, 9, 11, 19, 21, 29, 31, 39, 41, 49, 51, 59, 61, 69, 71, 79, 81, 89, 91, 99]\n",
    "\n",
    "if set1 in list_to_remove:\n",
    "    list_to_remove.pop()\n",
    "print(list_to_remove)"
   ]
  },
  {
   "cell_type": "code",
   "execution_count": 115,
   "metadata": {},
   "outputs": [
    {
     "name": "stdout",
     "output_type": "stream",
     "text": [
      "none\n"
     ]
    }
   ],
   "source": [
    "list_to_remove = [1, 9, 11, 19, 21, 29, 31, 39, 41, 49, 51, 59, 61, 69, 71, 79, 81, 89, 91, 99]\n",
    "if set1 in list_to_remove:\n",
    "    print()\n",
    "else:\n",
    "    print(\"none\")"
   ]
  },
  {
   "cell_type": "markdown",
   "metadata": {},
   "source": [
    "#### 15 -The objective of this lab is to provide you a overview of manipulating sets in Python and how they can be integrated within a real usecase\n",
    "#### For the exercises below it's strongly advised to quickly check this link: https://docs.python.org/2/library/sets.html#sets.Set\n",
    "#### Imagine you need to create the grocery list for your family! Below you will see a list of items each family member wants. There will be repetitions because this family has the habbit of each time they notice something is missing to write it down. The problem is that they don't really talk to each other and therefore some items in the list are repeated. With the collection of questions below you will see how they solve repetion and create a grocery list with unique elements.\n",
    "\n"
   ]
  },
  {
   "cell_type": "code",
   "execution_count": 117,
   "metadata": {},
   "outputs": [],
   "source": [
    "father_list = ['garlic', 'watermelon', 'toilet paper', 'yogurt', 'onions', 'gums', 'flour', 'cucumber', 'watermelon', 'yogurt', 'garlic']\n",
    "\n",
    "mother_list = []\n",
    "\n",
    "Jo_list = ['blueberries', 'sugar', 'watermelon', 'gums', 'tomatoes', 'yogurt', 'juice', 'milk', 'onions', 'garlic', 'cucumber', 'sugar', 'blueberries', 'gums', 'yogurt']\n",
    "\n",
    "Carlos_list = ['tomatoes', 'water', 'onions', 'blueberries', 'garlic', 'flour', 'cherries', 'tomatoes', 'onions', 'water', 'tomatoes', 'toilet paper']\n",
    "\n",
    "Mattia_list = []\n",
    "\n",
    "\n"
   ]
  },
  {
   "cell_type": "markdown",
   "metadata": {},
   "source": [
    "#### 15.1- As you can see there are items repeated in each list. Creat a sequence of iterable elements with dintinct items that each family member wants. You can do it in two different ways. Assign each one (set) to a variable with the name of the family member (ex: father_set)."
   ]
  },
  {
   "cell_type": "code",
   "execution_count": 121,
   "metadata": {},
   "outputs": [
    {
     "data": {
      "text/plain": [
       "{'cucumber', 'garlic', 'gums', 'onions', 'watermelon', 'yogurt'}"
      ]
     },
     "execution_count": 121,
     "metadata": {},
     "output_type": "execute_result"
    }
   ],
   "source": [
    "z = set(father_list).intersection(Jo_list)\n",
    "z"
   ]
  },
  {
   "cell_type": "code",
   "execution_count": 122,
   "metadata": {},
   "outputs": [
    {
     "data": {
      "text/plain": [
       "{'flour', 'garlic', 'onions', 'toilet paper'}"
      ]
     },
     "execution_count": 122,
     "metadata": {},
     "output_type": "execute_result"
    }
   ],
   "source": [
    "y = set(father_list).intersection(Carlos_list)\n",
    "y"
   ]
  },
  {
   "cell_type": "code",
   "execution_count": 143,
   "metadata": {},
   "outputs": [
    {
     "name": "stdout",
     "output_type": "stream",
     "text": [
      "{'toilet paper', 'garlic', 'yogurt', 'flour', 'gums', 'onions', 'watermelon', 'cucumber'}\n"
     ]
    }
   ],
   "source": [
    "mother_list = set(y).union(z)\n",
    "print (mother_list)"
   ]
  },
  {
   "cell_type": "code",
   "execution_count": 145,
   "metadata": {},
   "outputs": [
    {
     "name": "stdout",
     "output_type": "stream",
     "text": [
      "set()\n"
     ]
    }
   ],
   "source": [
    "father_set = set(father_list).difference(mother_list) \n",
    "print(father_set)"
   ]
  },
  {
   "cell_type": "code",
   "execution_count": 146,
   "metadata": {},
   "outputs": [
    {
     "name": "stdout",
     "output_type": "stream",
     "text": [
      "{'tomatoes', 'milk', 'juice', 'blueberries', 'sugar'}\n"
     ]
    }
   ],
   "source": [
    "Jo_set = set(Jo_list).difference(mother_list) \n",
    "print(Jo_set)"
   ]
  },
  {
   "cell_type": "code",
   "execution_count": 148,
   "metadata": {},
   "outputs": [
    {
     "name": "stdout",
     "output_type": "stream",
     "text": [
      "{'water', 'cherries', 'tomatoes', 'blueberries'}\n"
     ]
    }
   ],
   "source": [
    "Carlos_set = set(Carlos_list).difference(mother_list) \n",
    "print(Carlos_set)"
   ]
  },
  {
   "cell_type": "markdown",
   "metadata": {},
   "source": [
    "#### 15.2- Q: Mattia wants the same items that his brother Carlos and his sister Jo but doesn't want anything they both want.\n",
    "\n",
    "##### Hint: check out the documentation for `x.symmetric_difference(y)`."
   ]
  },
  {
   "cell_type": "code",
   "execution_count": 124,
   "metadata": {},
   "outputs": [
    {
     "name": "stdout",
     "output_type": "stream",
     "text": [
      "{'toilet paper', 'cherries', 'yogurt', 'flour', 'gums', 'milk', 'watermelon', 'juice', 'cucumber', 'sugar', 'water'}\n"
     ]
    }
   ],
   "source": [
    "Mattia_list = set(Carlos_list).symmetric_difference(Jo_list)\n",
    "print (Mattia_list)"
   ]
  },
  {
   "cell_type": "markdown",
   "metadata": {},
   "source": [
    "#### 15.3- The line of code below  will  generate a list of random elements from a collection of items, with replacement. Run it and from it create a sequence of unique elements and assign it to the variable mother.\n"
   ]
  },
  {
   "cell_type": "code",
   "execution_count": 152,
   "metadata": {},
   "outputs": [
    {
     "name": "stdout",
     "output_type": "stream",
     "text": [
      "['bread', 'chocolate', 'yogurt', 'watermelon', 'chocolate', 'shampoo', 'vinegar', 'onions', 'oranges', 'toilet paper']\n"
     ]
    }
   ],
   "source": [
    "import random\n",
    "items = ['milk', 'water', 'chocolate', 'blueberries', 'shampoo', 'flour', 'bread', 'sugar', 'watermelon', 'vinegar', 'tomatoes', 'yogurt', 'juice', 'gums', 'onions', 'garlic', 'cucumber', 'mushrooms', 'toilet paper', 'oranges', 'deodorant', 'cherries']\n",
    "\n",
    "mother_list = random.choices(items,k = 10) # https://docs.python.org/3/library/random.html\n",
    "\n",
    "print(mother_list)"
   ]
  },
  {
   "cell_type": "code",
   "execution_count": 154,
   "metadata": {},
   "outputs": [
    {
     "name": "stdout",
     "output_type": "stream",
     "text": [
      "['bread', 'chocolate', 'yogurt', 'watermelon', 'chocolate', 'shampoo', 'vinegar', 'onions', 'oranges', 'toilet paper']\n"
     ]
    }
   ],
   "source": [
    "print(mother_list)"
   ]
  },
  {
   "cell_type": "markdown",
   "metadata": {},
   "source": [
    "#### 15.4- Before leaving the house to the grocery store the father found a lot of toilet paper, so the mother decided to remove it from the items needed to be bought. Use the `.discard()` method to remove from each set created before the 'toilet paper'. \n",
    "\n",
    "#### Hint: Try to first create a list contaning the variables of each set created before, then loop through them and remove the unecessary item. \n",
    "\n",
    "##### Note: The`.discard()` method will remove and update the set without the need of reassignment.\n",
    "\n"
   ]
  },
  {
   "cell_type": "code",
   "execution_count": null,
   "metadata": {},
   "outputs": [],
   "source": [
    "# Your code here\n"
   ]
  },
  {
   "cell_type": "markdown",
   "metadata": {},
   "source": [
    "#### 15.5- Create a set with all the groceries needed to be bought for the house (no repetitions)."
   ]
  },
  {
   "cell_type": "code",
   "execution_count": null,
   "metadata": {},
   "outputs": [],
   "source": [
    "# Your code here\n"
   ]
  },
  {
   "cell_type": "markdown",
   "metadata": {},
   "source": [
    "#### 15.6- The Father said that he could only buy five items this time. So he decided to arbitraly pick wich ones to buy this time.\n",
    "\n",
    "##### Hint: use the `.pop()` method."
   ]
  },
  {
   "cell_type": "code",
   "execution_count": null,
   "metadata": {},
   "outputs": [],
   "source": [
    "# Your code here\n"
   ]
  }
 ],
 "metadata": {
  "kernelspec": {
   "display_name": "Python 3 (ipykernel)",
   "language": "python",
   "name": "python3"
  },
  "language_info": {
   "codemirror_mode": {
    "name": "ipython",
    "version": 3
   },
   "file_extension": ".py",
   "mimetype": "text/x-python",
   "name": "python",
   "nbconvert_exporter": "python",
   "pygments_lexer": "ipython3",
   "version": "3.9.12"
  }
 },
 "nbformat": 4,
 "nbformat_minor": 2
}
